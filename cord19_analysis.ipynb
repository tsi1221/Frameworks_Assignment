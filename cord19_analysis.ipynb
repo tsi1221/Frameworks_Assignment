{
 "cells": [
  {
   "cell_type": "markdown",
   "metadata": {},
   "source": [
    "# CORD-19 Data Analysis\n",
    "Exploring COVID-19 research papers from the CORD-19 metadata.csv dataset."
   ]
  },
  {
   "cell_type": "code",
   "metadata": {},
   "source": [
    "# Import libraries\n",
    "import pandas as pd\n",
    "import matplotlib.pyplot as plt\n",
    "import seaborn as sns\n",
    "from collections import Counter\n",
    "\n",
    "sns.set_style('whitegrid')"
   ],
   "execution_count": null,
   "outputs": []
  },
  {
   "cell_type": "markdown",
   "metadata": {},
   "source": [
    "## Step 1: Load the Dataset"
   ]
  },
  {
   "cell_type": "code",
   "metadata": {},
   "source": [
    "# Load metadata.csv\n",
    "try:\n",
    "    df = pd.read_csv('metadata.csv')\n",
    "    print('Dataset loaded successfully!')\n",
    "except FileNotFoundError:\n",
    "    print('metadata.csv not found. Make sure it is in the same folder.')\n",
    "\n",
    "# Inspect first few rows\n",
    "df.head()"
   ],
   "execution_count": null,
   "outputs": []
  },
  {
   "cell_type": "markdown",
   "metadata": {},
   "source": [
    "## Step 2: Basic Exploration"
   ]
  },
  {
   "cell_type": "code",
   "metadata": {},
   "source": [
    "# Shape of dataset\n",
    "print(f'Total rows: {df.shape[0]}, Total columns: {df.shape[1]}')\n",
    "\n",
    "# Data types and info\n",
    "df.info()\n",
    "\n",
    "# Check for missing values\n",
    "df.isnull().sum()\n",
    "\n",
    "# Basic statistics (if any numeric columns exist)\n",
    "df.describe()"
   ],
   "execution_count": null,
   "outputs": []
  },
  {
   "cell_type": "markdown",
   "metadata": {},
   "source": [
    "## Step 3: Data Cleaning"
   ]
  },
  {
   "cell_type": "code",
   "metadata": {},
   "source": [
    "# Drop rows with missing title or publish_time\n",
    "df_clean = df.dropna(subset=['title', 'publish_time'])\n",
    "\n",
    "# Convert publish_time to datetime\n",
    "df_clean['publish_time'] = pd.to_datetime(df_clean['publish_time'], errors='coerce')\n",
    "\n",
    "# Extract publication year\n",
    "df_clean['year'] = df_clean['publish_time'].dt.year\n",
    "\n",
    "# Abstract word count (optional)\n",
    "df_clean['abstract_word_count'] = df_clean['abstract'].fillna('').apply(lambda x: len(x.split()))\n",
    "\n",
    "df_clean.head()"
   ],
   "execution_count": null,
   "outputs": []
  },
  {
   "cell_type": "markdown",
   "metadata": {},
   "source": [
    "## Step 4: Data Analysis"
   ]
  },
  {
   "cell_type": "code",
   "metadata": {},
   "source": [
    "# Publications by year\n",
    "year_counts = df_clean['year'].value_counts().sort_index()\n",
    "\n",
    "plt.figure(figsize=(10,5))\n",
    "plt.bar(year_counts.index, year_counts.values, color='skyblue')\n",
    "plt.title('Publications by Year')\n",
    "plt.xlabel('Year')\n",
    "plt.ylabel('Number of Papers')\n",
    "plt.show()"
   ],
   "execution_count": null,
   "outputs": []
  },
  {
   "cell_type": "code",
   "metadata": {},
   "source": [
    "# Top journals\n",
    "top_journals = df_clean['journal'].value_counts().head(10)\n",
    "\n",
    "plt.figure(figsize=(10,5))\n",
    "top_journals.plot(kind='bar', color='salmon')\n",
    "plt.title('Top Journals Publishing COVID-19 Papers')\n",
    "plt.xlabel('Journal')\n",
    "plt.ylabel('Number of Papers')\n",
    "plt.show()"
   ],
   "execution_count": null,
   "outputs": []
  },
  {
   "cell_type": "code",
   "metadata": {},
   "source": [
    "# Most frequent words in titles\n",
    "titles = df_clean['title'].dropna().str.lower().str.split()\n",
    "all_words = [word for sublist in titles for word in sublist]\n",
    "word_freq = Counter(all_words)\n",
    "common_words = word_freq.most_common(20)\n",
    "\n",
    "words, counts = zip(*common_words)\n",
    "plt.figure(figsize=(12,5))\n",
    "sns.barplot(x=list(words), y=list(counts), palette='viridis')\n",
    "plt.xticks(rotation=45)\n",
    "plt.title('Top 20 Most Frequent Words in Titles')\n",
    "plt.show()"
   ],
   "execution_count": null,
   "outputs": []
  },
  {
   "cell_type": "code",
   "metadata": {},
   "source": [
    "# Distribution of paper counts by source\n",
    "df_clean['source_x'].value_counts().plot(kind='bar', figsize=(8,4), color='lightgreen', title='Paper Counts by Source')\n",
    "plt.show()"
   ],
   "execution_count": null,
   "outputs": []
  },
  {
   "cell_type": "markdown",
   "metadata": {},
   "source": [
    "## Step 5: Observations"
   ]
  },
  {
   "cell_type": "markdown",
   "metadata": {},
   "source": [
    "- Publications increased significantly in 2020 and 2021 due to COVID-19.\n",
    "- Top journals publishing COVID-19 research include `medRxiv`, `bioRxiv`, and others.\n",
    "- Common words in titles include 'covid', 'coronavirus', 'sars', etc.\n",
    "- Most papers come from preprint servers like `medRxiv` and `bioRxiv`."
   ]
  }
 ],
 "metadata": {
  "kernelspec": {
   "display_name": "Python 3",
   "language": "python",
   "name": "python3"
  },
  "language_info": {
   "name": "python",
   "version": "3.9"
  }
 },
 "nbformat": 4,
 "nbformat_minor": 5
}
